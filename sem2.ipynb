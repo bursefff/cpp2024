{
 "cells": [
  {
   "cell_type": "code",
   "execution_count": 72,
   "metadata": {},
   "outputs": [
    {
     "name": "stdout",
     "output_type": "stream",
     "text": [
      "[[-2.   1. ]\n",
      " [ 1.5 -0.5]]\n",
      "[ 0.07243603 -0.15328482  0.31621803 -1.16202625  1.38987029  0.08573044\n",
      " -1.63662191  0.28978564  1.01607597 -0.29138589]\n",
      "[1 2 3]\n",
      "CPU times: user 542 μs, sys: 44 μs, total: 586 μs\n",
      "Wall time: 577 μs\n"
     ]
    }
   ],
   "source": [
    "%%time\n",
    "import numpy as np\n",
    "import matplotlib.pyplot as plt\n",
    "import matplotlib.animation as an\n",
    "\n",
    "a = np.array([[1, 2], [3,4]])\n",
    "print(np.linalg.inv(a))\n",
    "\n",
    "rng = np.random.default_rng()\n",
    "print(rng.standard_normal(10))\n",
    "\n",
    "b = np.array([1, 1, 1, 2, 2, 3])\n",
    "print(np.unique(b))"
   ]
  }
 ],
 "metadata": {
  "kernelspec": {
   "display_name": "Python 3",
   "language": "python",
   "name": "python3"
  },
  "language_info": {
   "codemirror_mode": {
    "name": "ipython",
    "version": 3
   },
   "file_extension": ".py",
   "mimetype": "text/x-python",
   "name": "python",
   "nbconvert_exporter": "python",
   "pygments_lexer": "ipython3",
   "version": "3.12.6"
  }
 },
 "nbformat": 4,
 "nbformat_minor": 2
}
